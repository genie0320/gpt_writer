{
  "nbformat": 4,
  "nbformat_minor": 0,
  "metadata": {
    "colab": {
      "provenance": [],
      "gpuType": "T4",
      "authorship_tag": "ABX9TyOC5Ej01en7gTBlzBTQLzDy",
      "include_colab_link": true
    },
    "kernelspec": {
      "name": "python3",
      "display_name": "Python 3"
    },
    "language_info": {
      "name": "python"
    },
    "accelerator": "GPU"
  },
  "cells": [
    {
      "cell_type": "markdown",
      "metadata": {
        "id": "view-in-github",
        "colab_type": "text"
      },
      "source": [
        "<a href=\"https://colab.research.google.com/github/genie0320/gpt_writer/blob/colab/test.ipynb\" target=\"_parent\"><img src=\"https://colab.research.google.com/assets/colab-badge.svg\" alt=\"Open In Colab\"/></a>"
      ]
    },
    {
      "cell_type": "code",
      "source": [
        "# 실행 하드웨어 확인 : 런타임 > 런타임유형변경\n",
        "import tensorflow as tf\n",
        "tf.test.gpu_device_name() # GPU~\n",
        "\n",
        "import textwrap"
      ],
      "metadata": {
        "id": "-yatafcUIzir"
      },
      "execution_count": 5,
      "outputs": []
    },
    {
      "cell_type": "code",
      "execution_count": 6,
      "metadata": {
        "colab": {
          "base_uri": "https://localhost:8080/"
        },
        "id": "8rzN8JYNv4BP",
        "outputId": "e4b15904-da6d-48e1-8cd6-da5dbeffa0d5"
      },
      "outputs": [
        {
          "output_type": "stream",
          "name": "stdout",
          "text": [
            "openai 1.9.0\n"
          ]
        }
      ],
      "source": [
        "# !pip install openai\n",
        "# !openai -V\n",
        "\n",
        "# API 키 세팅 : 오른쪽 메뉴 > 열쇠모양(유저시크릿) > OPENAI_API_KEY로 설정 후, 아래 코드 실행.\n",
        "from google.colab import userdata\n",
        "api_key = userdata.get('OPENAI_API_KEY')"
      ]
    },
    {
      "cell_type": "code",
      "source": [
        "import ipywidgets as widgets"
      ],
      "metadata": {
        "id": "jLuCIzihLi07"
      },
      "execution_count": null,
      "outputs": []
    },
    {
      "cell_type": "code",
      "source": [],
      "metadata": {
        "id": "igP5zgyHEMq2"
      },
      "execution_count": 4,
      "outputs": []
    },
    {
      "cell_type": "markdown",
      "source": [],
      "metadata": {
        "id": "HuSz_pz2ELeU"
      }
    },
    {
      "cell_type": "code",
      "source": [
        "from openai import OpenAI\n",
        "client = OpenAI(api_key = api_key)\n",
        "\n",
        "completion = client.chat.completions.create(\n",
        "  model=\"gpt-3.5-turbo\",\n",
        "  messages=[\n",
        "    {\"role\": \"system\", \"content\": \"You are a poetic assistant, skilled in explaining complex programming concepts with creative flair.\"},\n",
        "    {\"role\": \"user\", \"content\": \"Compose a poem that explains the concept of recursion in programming.\"}\n",
        "  ]\n",
        ")\n",
        "\n",
        "print(completion.choices[0].message.content)"
      ],
      "metadata": {
        "colab": {
          "base_uri": "https://localhost:8080/"
        },
        "id": "SYA7GhtFB7Q0",
        "outputId": "efb6d226-afba-4bfc-8c0b-32574a45d55b"
      },
      "execution_count": 13,
      "outputs": [
        {
          "output_type": "stream",
          "name": "stdout",
          "text": [
            "ChatCompletionMessage(content=\"In the realm where programming abounds,\\nA concept of elegance truly astounds.\\nRecursion, the magical key, so profound,\\nLike a loop that spirals, it leaves us spellbound.\\n\\nImagine a tale, a story so grand,\\nWith characters and plots that expand.\\nEach chapter, a function, a script in command,\\nBut recursive whispers, they now demand.\\n\\nSo let's journey deep into this code,\\nWhere calls to oneself beg to be told.\\nA function that, within its own abode,\\nFinds solace in riddles, so intricate and bold.\\n\\nBehold the power of recursion's might,\\nA method that calls itself infinite,\\nIn a dance of logic, a recursive flight,\\nUnraveling enigmas, layer by layer to ignite.\\n\\nWith each call, a problem is broken apart,\\nSplitting and conquering, with a clever art.\\nA path through complexity, a shimmering chart,\\nInto the abyss, where answers finally start.\\n\\nYet caution is needed, a bound to address,\\nFor a runaway recursion can cause distress.\\nLike the hall of mirrors, it's easy to obsess,\\nAnd the stack overflows with an infinite mess.\\n\\nSo set a base case, a beacon to guide,\\nWhen recursion's embrace, we seek to hide.\\nA stopping point, where the trains collide,\\nTo end the cycle, with grace and abide.\\n\\nWith recursion we wander, exploring unknown,\\nUnveiling secrets, in a world of our own.\\nThrough fractal patterns, intricate as a stone,\\nWe unlock the secrets that code has sown.\\n\\nSo embrace recursion, that mystical art,\\nAn enchanting concept, playing its part.\\nIn the depths of programming, it imparts,\\nA dance of elegance, captivating the heart.\", role='assistant', function_call=None, tool_calls=None)\n"
          ]
        }
      ]
    },
    {
      "cell_type": "code",
      "source": [],
      "metadata": {
        "colab": {
          "base_uri": "https://localhost:8080/",
          "height": 35
        },
        "id": "GVJ8326LHssJ",
        "outputId": "b1dc8d09-9d31-4644-b18e-47d772bd0aef"
      },
      "execution_count": 1,
      "outputs": [
        {
          "output_type": "execute_result",
          "data": {
            "text/plain": [
              "'/device:GPU:0'"
            ],
            "application/vnd.google.colaboratory.intrinsic+json": {
              "type": "string"
            }
          },
          "metadata": {},
          "execution_count": 1
        }
      ]
    }
  ]
}